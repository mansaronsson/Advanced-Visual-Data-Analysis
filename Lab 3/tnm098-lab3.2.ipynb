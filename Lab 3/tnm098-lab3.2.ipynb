{
 "cells": [
  {
   "cell_type": "code",
   "execution_count": 1,
   "id": "balanced-cycling",
   "metadata": {},
   "outputs": [],
   "source": [
    "import numpy as np\n",
    "import os\n",
    "\n",
    "file_list = []\n",
    "\n",
    "for root, dirs, files in os.walk('Lab3.2/'):\n",
    "    for file in files:\n",
    "        with open(os.path.join(root, file), 'r') as f:\n",
    "            text = f.read()\n",
    "            file_list.append(text)"
   ]
  },
  {
   "cell_type": "code",
   "execution_count": 2,
   "id": "latin-supervision",
   "metadata": {},
   "outputs": [],
   "source": [
    "import nltk\n",
    "\n",
    "tokenizer = nltk.tokenize.RegexpTokenizer(r'\\w+')\n",
    "stemmer = nltk.stem.PorterStemmer()\n",
    "\n",
    "stem_list = []\n",
    "word_dict = {}\n",
    "num_dict = {}\n",
    "\n",
    "counter = 0\n",
    "for i in range(len(file_list)):\n",
    "    \n",
    "    words = tokenizer.tokenize(stemmer.stem(file_list[i]))\n",
    "    stem_list.append(words)\n",
    "    \n",
    "    for w in words:\n",
    "        if not w in word_dict:\n",
    "            word_dict[w] = counter\n",
    "            num_dict[counter] = w\n",
    "            counter += 1\n",
    "\n",
    "# print(word_dict)"
   ]
  },
  {
   "cell_type": "code",
   "execution_count": 3,
   "id": "authorized-seeking",
   "metadata": {},
   "outputs": [],
   "source": [
    "num_list = []\n",
    "\n",
    "for i in range(len(stem_list)):\n",
    "    num_list.append([])\n",
    "    for w in stem_list[i]:\n",
    "        num_list[i].append(word_dict[w])\n",
    "        "
   ]
  },
  {
   "cell_type": "code",
   "execution_count": 4,
   "id": "permanent-plasma",
   "metadata": {},
   "outputs": [
    {
     "name": "stdout",
     "output_type": "stream",
     "text": [
      "Document 1 at word 210 is matching document 5 at word 75.\n",
      "Document 1 at word 216 is matching document 5 at word 81.\n",
      "Document 1 at word 222 is matching document 5 at word 87.\n",
      "Document 1 at word 1296 is matching document 7 at word 212.\n",
      "Document 1 at word 1302 is matching document 7 at word 218.\n",
      "Document 1 at word 1308 is matching document 7 at word 224.\n",
      "Document 1 at word 1314 is matching document 7 at word 230.\n",
      "Document 1 at word 1320 is matching document 7 at word 236.\n",
      "Document 1 at word 1326 is matching document 7 at word 242.\n",
      "Document 1 at word 1332 is matching document 7 at word 248.\n",
      "Document 1 at word 1338 is matching document 7 at word 254.\n",
      "Document 1 at word 1344 is matching document 7 at word 260.\n",
      "Time: 238.25s\n",
      "[[], [['tried', 'out', 'the', 'scales', 'and', 'found', 'that', 'my', 'involuntary', 'host', 'weighed', 'over'], ['that', 'my', 'involuntary', 'host', 'weighed', 'over', '195', 'pounds', 'a', 'good', 'deal', 'of'], ['195', 'pounds', 'a', 'good', 'deal', 'of', 'it', 'around', 'the', 'middle', 'tommy', 'morgan'], ['thanks', 'dr', 'rutherford', 'was', 'pacing', 'with', 'surgical', 'precision', 'up', 'and', 'down', 'my'], ['surgical', 'precision', 'up', 'and', 'down', 'my', 'den', 'he', 'looked', 'slightly', 'more', 'self'], ['den', 'he', 'looked', 'slightly', 'more', 'self', 'possessed', 'than', 'the', 'day', 'before', 'and'], ['possessed', 'than', 'the', 'day', 'before', 'and', 'seemed', 'to', 'be', 'in', 'excellent', 'physical'], ['seemed', 'to', 'be', 'in', 'excellent', 'physical', 'condition', 'i', 'guessed', 'at', 'the', 'contour'], ['condition', 'i', 'guessed', 'at', 'the', 'contour', 'beneath', 'my', 'wadded', 'black', 'silk', 'dressing'], ['beneath', 'my', 'wadded', 'black', 'silk', 'dressing', 'gown', 'and', 're', 'considered', 'my', 'original'], ['gown', 'and', 're', 'considered', 'my', 'original', 'plan', 'to', 'throw', 'him', 'bodily', 'out'], ['plan', 'to', 'throw', 'him', 'bodily', 'out', 'of', 'the', 'house', 'for', 'having', 'come']], [], [], [], [], [], [], [], []]\n"
     ]
    }
   ],
   "source": [
    "import math\n",
    "import time\n",
    "\n",
    "# Identify identical sequences of words with length len\n",
    "seq_len = 12\n",
    "# Number of words in a sequence that has to be the same for the algorithm say it's a match\n",
    "match_tresh = 10\n",
    "\n",
    "match_list = [[] for i in range(len(num_list))]\n",
    "\n",
    "start = time.time() # Time the function\n",
    "for i in range(len(num_list)-1):\n",
    "    for j in range(0, math.floor(len(num_list[i])), int(seq_len/2)):\n",
    "        seq = np.array(num_list[i][j:j+seq_len])\n",
    "        \n",
    "        for m in range(i+1, len(num_list)):\n",
    "            for n in range(len(num_list[m])-seq_len+1):\n",
    "                comp_seq = np.array(num_list[m][n:n+seq_len])\n",
    "\n",
    "                match_count = 0\n",
    "                miss_count = 0\n",
    "                for o in range(min(len(seq), len(comp_seq))):\n",
    "                    if seq[o] == comp_seq[o]:\n",
    "                        match_count += 1\n",
    "                    else:\n",
    "                        miss_count += 1\n",
    "\n",
    "                    if miss_count > seq_len - match_tresh:\n",
    "                        break\n",
    "\n",
    "                    if match_count >= match_tresh:\n",
    "                        print('Document {} at word {} is matching document {} at word {}.'.format(i, j, m, n))\n",
    "                        match_list[i].append([num_dict[n] for n in seq])\n",
    "                        break\n",
    "end = time.time() # Time the function\n",
    "\n",
    "print('Time: {}s'.format(round(end-start, 2)))                          \n",
    "print(match_list)"
   ]
  }
 ],
 "metadata": {
  "kernelspec": {
   "display_name": "Python 3",
   "language": "python",
   "name": "python3"
  },
  "language_info": {
   "codemirror_mode": {
    "name": "ipython",
    "version": 3
   },
   "file_extension": ".py",
   "mimetype": "text/x-python",
   "name": "python",
   "nbconvert_exporter": "python",
   "pygments_lexer": "ipython3",
   "version": "3.8.6"
  }
 },
 "nbformat": 4,
 "nbformat_minor": 5
}
